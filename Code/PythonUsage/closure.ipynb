{
    "cells": [
        {
            "cell_type": "markdown",
            "source": [
                "# Python 闭包有一个作用就是可以固定一个变量在inner function里，因为它存储在了闭包的 cell_contents中了\r\n",
                "# 那么有没有一种可能即使脱离了函数本身的作用范围，局部变量还可以被访问得到呢？答案是闭包\r\n",
                "\r\n",
                "https://foofish.net/python-closure.html"
            ],
            "metadata": {}
        },
        {
            "cell_type": "code",
            "execution_count": 1,
            "source": [
                "def print_msg():\r\n",
                "    # print_msg 是外围函数\r\n",
                "    msg = \"zen of python\"\r\n",
                "\r\n",
                "    def printer():\r\n",
                "        # printer是嵌套函数\r\n",
                "        print(msg)\r\n",
                "    printer()\r\n",
                "# 输出 zen of python\r\n",
                "print_msg()\r\n",
                "\r\n",
                "# 对于嵌套函数，它可以访问到其外层作用域中声明的非局部（non-local）变量，比如代码示例中的变量 msg 可以被嵌套函数 printer 正常访问。"
            ],
            "outputs": [
                {
                    "output_type": "stream",
                    "name": "stdout",
                    "text": [
                        "zen of python\n"
                    ]
                }
            ],
            "metadata": {}
        },
        {
            "cell_type": "code",
            "execution_count": 2,
            "source": [
                "def myfunc1():\r\n",
                "  x = \"John\"\r\n",
                "  def myfunc2():\r\n",
                "    nonlocal x\r\n",
                "    x = \"hello\"\r\n",
                "  myfunc2()\r\n",
                "  return x\r\n",
                "\r\n",
                "print(myfunc1())"
            ],
            "outputs": [
                {
                    "output_type": "stream",
                    "name": "stdout",
                    "text": [
                        "hello\n"
                    ]
                }
            ],
            "metadata": {}
        },
        {
            "cell_type": "code",
            "execution_count": 1,
            "source": [
                "def adder(x):\r\n",
                "    def wrapper(y):\r\n",
                "        return x + y\r\n",
                "    return wrapper\r\n",
                "\r\n",
                "adder5 = adder(5)\r\n",
                "# 输出 15\r\n",
                "adder5(10)\r\n",
                "# 输出 11\r\n",
                "adder5(6)"
            ],
            "outputs": [
                {
                    "output_type": "execute_result",
                    "data": {
                        "text/plain": [
                            "11"
                        ]
                    },
                    "metadata": {},
                    "execution_count": 1
                }
            ],
            "metadata": {}
        },
        {
            "cell_type": "code",
            "execution_count": 3,
            "source": [
                "adder5.__closure__"
            ],
            "outputs": [
                {
                    "output_type": "execute_result",
                    "data": {
                        "text/plain": [
                            "(<cell at 0x000001F8EA59BBE0: int object at 0x000001F8E5F469B0>,)"
                        ]
                    },
                    "metadata": {},
                    "execution_count": 3
                }
            ],
            "metadata": {}
        },
        {
            "cell_type": "code",
            "execution_count": 4,
            "source": [
                "adder5.__closure__[0].cell_contents"
            ],
            "outputs": [
                {
                    "output_type": "execute_result",
                    "data": {
                        "text/plain": [
                            "5"
                        ]
                    },
                    "metadata": {},
                    "execution_count": 4
                }
            ],
            "metadata": {}
        },
        {
            "cell_type": "code",
            "execution_count": 19,
            "source": [
                "pct_off = 0.8\r\n",
                "print(pct_off)\r\n",
                "\r\n",
                "def shopping_bill(promo=False):\r\n",
                "    items_prices = [10, 5, 20, 2, 8]\r\n",
                "    \r\n",
                "    pct_off = 0\r\n",
                "\r\n",
                "    def half_off():\r\n",
                "        global pct_off\r\n",
                "        pct_off = .50\r\n",
                "\r\n",
                "    if promo:\r\n",
                "        half_off()\r\n",
                "\r\n",
                "    # 这里pct_off是0，因为global直接去到最外面去了(outside of the function)，没有修改到shopping_bill里的pct_off\r\n",
                "    # 只有换成nonlocal pct_off才能改这里的pct_off\r\n",
                "    total = sum(items_prices) - (sum(items_prices) * pct_off)\r\n",
                "    print(total)\r\n",
                "    \r\n",
                "    \r\n",
                "shopping_bill(True)\r\n",
                "print(pct_off)"
            ],
            "outputs": [
                {
                    "output_type": "stream",
                    "name": "stdout",
                    "text": [
                        "0.8\n",
                        "45\n",
                        "0.5\n"
                    ]
                }
            ],
            "metadata": {}
        },
        {
            "cell_type": "code",
            "execution_count": 7,
            "source": [
                "def foo():\r\n",
                "    x = 20\r\n",
                "\r\n",
                "    def bar():\r\n",
                "        global x\r\n",
                "        x = 25\r\n",
                "    \r\n",
                "    print(\"Before calling bar: \", x)\r\n",
                "    bar()\r\n",
                "    print(\"Calling bar now\")\r\n",
                "    print(\"After calling bar: \", x)\r\n",
                "\r\n",
                "foo()\r\n",
                "print(\"x in main: \", x)"
            ],
            "outputs": [
                {
                    "output_type": "stream",
                    "name": "stdout",
                    "text": [
                        "Before calling bar:  20\n",
                        "Calling bar now\n",
                        "After calling bar:  20\n",
                        "x in main:  25\n"
                    ]
                }
            ],
            "metadata": {}
        },
        {
            "cell_type": "code",
            "execution_count": null,
            "source": [],
            "outputs": [],
            "metadata": {}
        }
    ],
    "metadata": {
        "orig_nbformat": 4,
        "language_info": {
            "name": "python",
            "version": "3.9.4",
            "mimetype": "text/x-python",
            "codemirror_mode": {
                "name": "ipython",
                "version": 3
            },
            "pygments_lexer": "ipython3",
            "nbconvert_exporter": "python",
            "file_extension": ".py"
        },
        "kernelspec": {
            "name": "python3",
            "display_name": "Python 3.9.4 64-bit"
        },
        "interpreter": {
            "hash": "63fd5069d213b44bf678585dea6b12cceca9941eaf7f819626cde1f2670de90d"
        }
    },
    "nbformat": 4,
    "nbformat_minor": 2
}