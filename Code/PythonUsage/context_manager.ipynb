{
    "cells": [
        {
            "cell_type": "code",
            "execution_count": 2,
            "source": [
                "class A:\r\n",
                "    \r\n",
                "    def __enter__(self):\r\n",
                "        print(\"Entered!\")\r\n",
                "    \r\n",
                "    def __exit__(self, exc_type, exc_value, exc_tb):\r\n",
                "        print(\"Existed!\")\r\n",
                "\r\n",
                "\r\n",
                "with A() as a:\r\n",
                "    print(1)"
            ],
            "outputs": [
                {
                    "output_type": "stream",
                    "name": "stdout",
                    "text": [
                        "Entered!\n",
                        "1\n",
                        "Existed!\n"
                    ]
                }
            ],
            "metadata": {}
        },
        {
            "cell_type": "code",
            "execution_count": null,
            "source": [],
            "outputs": [],
            "metadata": {}
        }
    ],
    "metadata": {
        "orig_nbformat": 4,
        "language_info": {
            "name": "python",
            "version": "3.9.4",
            "mimetype": "text/x-python",
            "codemirror_mode": {
                "name": "ipython",
                "version": 3
            },
            "pygments_lexer": "ipython3",
            "nbconvert_exporter": "python",
            "file_extension": ".py"
        },
        "kernelspec": {
            "name": "python3",
            "display_name": "Python 3.9.4 64-bit"
        },
        "interpreter": {
            "hash": "63fd5069d213b44bf678585dea6b12cceca9941eaf7f819626cde1f2670de90d"
        }
    },
    "nbformat": 4,
    "nbformat_minor": 2
}