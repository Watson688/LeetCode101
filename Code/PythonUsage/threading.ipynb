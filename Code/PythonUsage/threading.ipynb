{
    "cells": [
        {
            "cell_type": "code",
            "execution_count": 5,
            "source": [
                "import threading\r\n",
                "\r\n",
                "\r\n",
                "\r\n",
                "\r\n",
                "def increment_thread(n):\r\n",
                "    global counter\r\n",
                "    for _ in range(n):\r\n",
                "        counter = counter + 1\r\n",
                "\r\n",
                "\r\n",
                "def two_threading_increment_drive(n):\r\n",
                "    t1 = threading.Thread(target=increment_thread, args=(n,))\r\n",
                "    t2 = threading.Thread(target=increment_thread, args=(n,))\r\n",
                "    \r\n",
                "    t1.start()\r\n",
                "    t2.start()\r\n",
                "    t1.join()\r\n",
                "    t2.join()\r\n",
                "\r\n",
                "    print(counter)\r\n",
                "\r\n",
                "for i in range(5):\r\n",
                "    counter = 0\r\n",
                "    two_threading_increment_drive(1000000)"
            ],
            "outputs": [
                {
                    "output_type": "stream",
                    "name": "stdout",
                    "text": [
                        "1690992\n",
                        "2000000\n",
                        "2000000\n",
                        "2000000\n",
                        "1824009\n"
                    ]
                }
            ],
            "metadata": {}
        },
        {
            "cell_type": "markdown",
            "source": [
                "## Lock"
            ],
            "metadata": {}
        },
        {
            "cell_type": "code",
            "execution_count": 1,
            "source": [
                "import time\r\n",
                "from threading import Lock\r\n",
                "from threading import Thread\r\n",
                "from threading import current_thread\r\n",
                "\r\n",
                "sharedState = [1, 2, 3]\r\n",
                "my_lock = Lock()\r\n",
                "\r\n",
                "\r\n",
                "def thread1_operations():\r\n",
                "    my_lock.acquire()\r\n",
                "    print(\"{0} has acquired the lock\".format(current_thread().getName()))\r\n",
                "\r\n",
                "    time.sleep(3)\r\n",
                "    sharedState[0] = 777\r\n",
                "\r\n",
                "    print(\"{0} about to release the lock\".format(current_thread().getName()))\r\n",
                "    my_lock.release()\r\n",
                "    print(\"{0} released the lock\".format(current_thread().getName()))\r\n",
                "\r\n",
                "\r\n",
                "def thread2_operations():\r\n",
                "    print(\"{0} is attempting to acquire the lock\".format(current_thread().getName()))\r\n",
                "    my_lock.acquire()\r\n",
                "    print(\"{0} has acquired the lock\".format(current_thread().getName()))\r\n",
                "\r\n",
                "    print(sharedState[0])\r\n",
                "    print(\"{0} about to release the lock\".format(current_thread().getName()))\r\n",
                "    my_lock.release()\r\n",
                "    print(\"{0} released the lock\".format(current_thread().getName()))\r\n",
                "\r\n",
                "if __name__ == \"__main__\":\r\n",
                "    # create and run the two threads\r\n",
                "    thread1 = Thread(target=thread1_operations, name=\"thread1\")\r\n",
                "    thread1.start()\r\n",
                "\r\n",
                "    thread2 = Thread(target=thread2_operations, name=\"thread2\")\r\n",
                "    thread2.start()\r\n",
                "\r\n",
                "    # wait for the two threads to complete\r\n",
                "    thread1.join()\r\n",
                "    thread2.join()\r\n"
            ],
            "outputs": [
                {
                    "output_type": "stream",
                    "name": "stdout",
                    "text": [
                        "thread1 has acquired the lock\n",
                        "thread2 is attempting to acquire the lock\n",
                        "thread1 about to release the lock\n",
                        "thread1 released the lock\n",
                        "thread2 has acquired the lock\n",
                        "777\n",
                        "thread2 about to release the lock\n",
                        "thread2 released the lock\n"
                    ]
                }
            ],
            "metadata": {}
        },
        {
            "cell_type": "code",
            "execution_count": null,
            "source": [],
            "outputs": [],
            "metadata": {}
        }
    ],
    "metadata": {
        "orig_nbformat": 4,
        "language_info": {
            "name": "python",
            "version": "3.9.4",
            "mimetype": "text/x-python",
            "codemirror_mode": {
                "name": "ipython",
                "version": 3
            },
            "pygments_lexer": "ipython3",
            "nbconvert_exporter": "python",
            "file_extension": ".py"
        },
        "kernelspec": {
            "name": "python3",
            "display_name": "Python 3.9.4 64-bit"
        },
        "interpreter": {
            "hash": "63fd5069d213b44bf678585dea6b12cceca9941eaf7f819626cde1f2670de90d"
        }
    },
    "nbformat": 4,
    "nbformat_minor": 2
}